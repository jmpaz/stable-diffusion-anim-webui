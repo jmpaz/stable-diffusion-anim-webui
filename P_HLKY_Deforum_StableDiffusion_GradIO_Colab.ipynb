{
  "cells": [
    {
      "cell_type": "markdown",
      "metadata": {
        "colab_type": "text",
        "id": "view-in-github"
      },
      "source": [
        "<a href=\"https://colab.research.google.com/github/XmYx/stable-diffusion-gradio-anim-opt/blob/main/P_HLKY_Deforum_StableDiffusion_GradIO_Colab.ipynb\" target=\"_parent\"><img src=\"https://colab.research.google.com/assets/colab-badge.svg\" alt=\"Open In Colab\"/></a>"
      ]
    },
    {
      "cell_type": "markdown",
      "metadata": {
        "id": "mLTb-y0dr8Yu"
      },
      "source": [
        "#Stable Diffusion GUI v0.4 (3D/2D Anim, Batch, Interpolation, Variation)\n",
        "\n",
        "requirements:\n",
        "          - Use the gradio link from the output to get to the GUI.\n",
        "          - KeyFrame builder added\n",
        "          - Multitasking Enabled\n",
        "          - sd-v1-4.ckpt on your Google Drive (Only directory path needed) \n",
        "          - sd-clip-vit-l14-img-embed_ema_only.ckpt on your Google Drive (Use Filename as well in the settings)\n",
        "          - Variations Model is optional, turn the Skip Switch on to skip loading it\n",
        "\n",
        "\n",
        "Link to model: https://huggingface.co/CompVis/stable-diffusion-v-1-4-original\n",
        "Link to Variations Model: https://huggingface.co/lambdalabs/stable-diffusion-image-conditioned/blob/main/sd-clip-vit-l14-img-embed_ema_only.ckpt\n",
        "\n",
        "\n",
        "Please find expanded explanation at GitHub:\n",
        "https://github.com/XmYx/stable-diffusion-gradio-anim-opt\n",
        "\n",
        "Features: 8192 x 8192 max res (really slow) and 8x Upscale without running out of memory. Featuring all features of Deforum's Notebook, plus Variations, Inpainting, and Noodle Soup Prompts.\n"
      ]
    },
    {
      "cell_type": "markdown",
      "metadata": {
        "id": "gi5Z-N2eJA6o"
      },
      "source": [
        "GPU CHECK"
      ]
    },
    {
      "cell_type": "code",
      "execution_count": null,
      "metadata": {
        "colab": {
          "base_uri": "https://localhost:8080/"
        },
        "id": "CBs2U95I2wpV",
        "outputId": "96d7cdfc-808a-4909-b6fc-11bcf5a3045f"
      },
      "outputs": [
        {
          "name": "stdout",
          "output_type": "stream",
          "text": [
            "GPU 0: Tesla P100-PCIE-16GB (UUID: GPU-a33890a0-b99f-fc20-8e93-c56e70f0c690)\n"
          ]
        }
      ],
      "source": [
        "!nvidia-smi -L"
      ]
    },
    {
      "cell_type": "markdown",
      "metadata": {
        "id": "-hKSuSX4nWM5"
      },
      "source": [
        "#Setup Optimized Anim GUI with Variations and Noodle Soup"
      ]
    },
    {
      "cell_type": "code",
      "execution_count": null,
      "metadata": {
        "id": "sokicrNdnDAT"
      },
      "outputs": [],
      "source": [
        "\n",
        "use_ngrok = \"\" #@param {type:\"boolean\"}\n",
        "ngrok_token = \"\" #@param {type:\"string\"}\n",
        "\n",
        "\n",
        "from google.colab import drive\n",
        "drive.mount('/gdrive')\n",
        "# 2 - Download Ngrok\n",
        "\n",
        "if use_ngrok == True:\n",
        "    ! wget -q -c -nc https://bin.equinox.io/c/4VmDzA7iaHb/ngrok-stable-linux-amd64.zip\n",
        "    ! unzip -qq -n ngrok-stable-linux-amd64.zip\n",
        "\n",
        "    # 3 - setup Ngrok - authtoken\n",
        "\n",
        "    #Ask token\n",
        "    print(\"Get your authtoken from https://dashboard.ngrok.com/auth\")\n",
        "    import getpass\n",
        "    if ngrok_token == \"\":\n",
        "        authtoken = getpass.getpass()\n",
        "    else:\n",
        "        authtoken = ngrok_token\n",
        "\n",
        "    Create tunnel\n",
        "    get_ipython().system_raw('./ngrok authtoken $authtoken && ./ngrok http 7860 &')\n",
        "\n",
        "!pip install torch==1.12.1+cu113 torchvision==0.13.1+cu113 --extra-index-url https://download.pytorch.org/whl/cu113\n",
        "!pip install omegaconf==2.2.3 einops==0.4.1 pytorch-lightning==1.7.4 torchmetrics==0.9.3 torchtext==0.13.1 transformers==4.21.2 kornia==0.6.7 gradio\n",
        "!pip install git+https://github.com/TencentARC/GFPGAN#egg=GFPGAN\n",
        "%mkdir /content/models\n",
        "%mkdir /content/models/pretrained\n",
        "!wget -N https://github.com/TencentARC/GFPGAN/releases/download/v1.3.0/GFPGANv1.3.pth -P /content/models\n",
        "!wget -N https://github.com/intel-isl/DPT/releases/download/1_0/dpt_large-midas-2f21e586.pt -P /content/models\n",
        "!wget -N https://cloudflare-ipfs.com/ipfs/Qmd2mMnDLWePKmgfS8m6ntAg4nhV5VkUyAydYBp8cWWeB7/AdaBins_nyu.pt -P /content/models/pretrained\n",
        "%cd /content\n",
        "!pip install git+https://github.com/TencentARC/GFPGAN#egg=GFPGAN\n",
        "!git clone https://github.com/shariqfarooq123/AdaBins.git\n",
        "!git clone https://github.com/isl-org/MiDaS.git\n",
        "!git clone https://github.com/MSFTserver/pytorch3d-lite.git\n",
        "!wget -N https://raw.githubusercontent.com/XmYx/waifu-diffusion-gradio-hosted-by-colab-en/main/anim/gradio_anim_01.py -P /content/stable-diffusion/scripts\n",
        "!git clone https://github.com/deforum/k-diffusion/\n",
        "!pip install -e /content/k-diffusion\n",
        "!pip install -e git+https://github.com/CompVis/taming-transformers.git@master#egg=taming-transformers\n",
        "!pip install -e git+https://github.com/openai/CLIP.git@main#egg=clip\n",
        "!pip install accelerate ftfy jsonmerge matplotlib resize-right timm torchdiffeq\n",
        "!pip install -e git+https://github.com/xinntao/Real-ESRGAN#egg=realesrgan\n",
        "!rm -r /content/stable-diffusion-gradio-anim-opt\n",
        "%cd /content/\n",
        "!git clone https://github.com/XmYx/stable-diffusion-gradio-anim-opt\n",
        "!pip install -e /content/stable-diffusion-gradio-anim-opt\n",
        "!pip install fire\n",
        "%mkdir /content/soup\n",
        "!wget -q --show-progress --no-cache --backups=1 'https://raw.githubusercontent.com/WASasquatch/noodle-soup-prompts/main/nsp_pantry.py' -P /content/soup"
      ]
    },
    {
      "cell_type": "code",
      "execution_count": null,
      "metadata": {
        "id": "plItZPiKnyPc"
      },
      "outputs": [],
      "source": [
        "#@markdown **Stable Diffusion Model Directory: (no filename)**\n",
        "\n",
        "stable_diffusion_models_path = \"/gdrive/MyDrive/AI/models/\" #@param {type:\"string\"}\n",
        "\n",
        "#@markdown **Snapshot Config directory**\n",
        "\n",
        "\n",
        "cfg_path = \"/gdrive/MyDrive/AI/sd_anims/_configs\"#@param {type:\"string\"}\n",
        "\n",
        "\n",
        "#@markdown **Skip Variations Model (Optional)**\n",
        "\n",
        "skip_variations = True #@param {type:\"boolean\"}\n",
        "\n",
        "#@markdown **Variations Model File (with filename) (Optional)**\n",
        "\n",
        "variations_model_file = \"/gdrive/MyDrive/AI/models/sd-clip-vit-l14-img-embed_ema_only.ckpt\" #@param {type:\"string\"}\n",
        "\n",
        "\n",
        "if skip_variations == True:\n",
        "  skip_var = \"--no_var True\"\n",
        "else:\n",
        "  skip_var = f\"--var_ckpt {variations_model_file}\"\n",
        "\n",
        "START = f\"--ckpt {stable_diffusion_models_path} {skip_var} --cfg_path {cfg_path}\"\n",
        "if use_ngrok == True:\n",
        "    get_ipython().system_raw('./ngrok http 7860 &')\n",
        "%cd /content/\n",
        "!python3 /content/stable-diffusion-gradio-anim-opt/anim/sd_anim_gui_v04.py {START}"
      ]
    },
    {
      "cell_type": "code",
      "execution_count": null,
      "metadata": {
        "id": "pJY1MZvYTLE4"
      },
      "outputs": [],
      "source": [
        "#@markdown **Update Cell**\n",
        "!rm -r /content/stable-diffusion-gradio-anim-opt\n",
        "%cd /content\n",
        "!git clone https://github.com/jmpaz/stable-diffusion-anim-webui\n",
        "!pip install gradio --upgrade\n"
      ]
    }
  ],
  "metadata": {
    "accelerator": "GPU",
    "colab": {
      "background_execution": "on",
      "collapsed_sections": [],
      "include_colab_link": true,
      "machine_shape": "hm",
      "provenance": []
    },
    "gpuClass": "standard",
    "kernelspec": {
      "display_name": "Python 3.10.6 64-bit",
      "language": "python",
      "name": "python3"
    },
    "language_info": {
      "name": "python",
      "version": "3.10.6"
    },
    "vscode": {
      "interpreter": {
        "hash": "b0fa6594d8f4cbf19f97940f81e996739fb7646882a419484c72d19e05852a7e"
      }
    }
  },
  "nbformat": 4,
  "nbformat_minor": 0
}
